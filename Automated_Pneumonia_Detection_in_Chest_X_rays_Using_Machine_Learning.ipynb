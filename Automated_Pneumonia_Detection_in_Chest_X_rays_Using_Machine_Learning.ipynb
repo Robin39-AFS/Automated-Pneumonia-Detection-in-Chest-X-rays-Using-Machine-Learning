{
  "nbformat": 4,
  "nbformat_minor": 0,
  "metadata": {
    "colab": {
      "provenance": [],
      "authorship_tag": "ABX9TyNDz4D/TlHMjyJSA1K59P+p",
      "include_colab_link": true
    },
    "kernelspec": {
      "name": "python3",
      "display_name": "Python 3"
    },
    "language_info": {
      "name": "python"
    }
  },
  "cells": [
    {
      "cell_type": "markdown",
      "metadata": {
        "id": "view-in-github",
        "colab_type": "text"
      },
      "source": [
        "<a href=\"https://colab.research.google.com/github/Robin39-AFS/Automated-Pneumonia-Detection-in-Chest-X-rays-Using-Machine-Learning/blob/main/Automated_Pneumonia_Detection_in_Chest_X_rays_Using_Machine_Learning.ipynb\" target=\"_parent\"><img src=\"https://colab.research.google.com/assets/colab-badge.svg\" alt=\"Open In Colab\"/></a>"
      ]
    },
    {
      "cell_type": "code",
      "execution_count": null,
      "metadata": {
        "colab": {
          "base_uri": "https://localhost:8080/"
        },
        "id": "8wPpEb3SkBD2",
        "outputId": "c322c6c6-74f7-4863-9cc4-fb712f4cbbb3"
      },
      "outputs": [
        {
          "output_type": "stream",
          "name": "stdout",
          "text": [
            "Python 3.11.12\n"
          ]
        }
      ],
      "source": [
        "# Checking Python version\n",
        "!python --version"
      ]
    },
    {
      "cell_type": "code",
      "source": [
        "# Basic libraries\n",
        "import numpy as np\n",
        "import pandas as pd\n",
        "import matplotlib.pyplot as plt\n",
        "import seaborn as sns\n",
        "\n",
        "# Feature selection and evaluation\n",
        "from sklearn.model_selection import train_test_split, cross_val_score\n",
        "from sklearn.metrics import accuracy_score, confusion_matrix, classification_report\n"
      ],
      "metadata": {
        "id": "cmLhVm-nkW1F"
      },
      "execution_count": null,
      "outputs": []
    },
    {
      "cell_type": "code",
      "source": [
        "from google.colab import drive\n",
        "drive.mount('/content/drive')"
      ],
      "metadata": {
        "colab": {
          "base_uri": "https://localhost:8080/"
        },
        "id": "LNOwBHZVt9Qc",
        "outputId": "8975ec19-4102-4f54-b20e-12e0051db908"
      },
      "execution_count": null,
      "outputs": [
        {
          "output_type": "stream",
          "name": "stdout",
          "text": [
            "Mounted at /content/drive\n"
          ]
        }
      ]
    },
    {
      "cell_type": "code",
      "source": [
        "# Unzip dataset\n",
        "import zipfile\n",
        "\n",
        "zip_path = '/content/drive/MyDrive/Automated Pneumonia Detection in Chest X-rays /chest_xray.zip'\n",
        "unzip_path = '/content'\n",
        "\n",
        "with zipfile.ZipFile(zip_path, 'r') as zip_ref:\n",
        "    zip_ref.extractall(unzip_path)\n",
        "\n",
        "print(\"Unzipped successfully.\")\n"
      ],
      "metadata": {
        "colab": {
          "base_uri": "https://localhost:8080/"
        },
        "id": "zDm9CgROwMhp",
        "outputId": "73cb50a7-e83b-4206-ad2a-2d23c390f2c8"
      },
      "execution_count": null,
      "outputs": [
        {
          "output_type": "stream",
          "name": "stdout",
          "text": [
            "Unzipped successfully.\n"
          ]
        }
      ]
    },
    {
      "cell_type": "code",
      "source": [
        "import numpy as np\n",
        "import os\n",
        "from PIL import Image\n",
        "\n",
        "# Define image size for feature extraction (128x128 pixels)\n",
        "image_size = (128, 128)\n",
        "\n",
        "def load_images_from_folder(folder):\n",
        "    images = []\n",
        "    labels = []\n",
        "    for label in ['NORMAL', 'PNEUMONIA']:\n",
        "        path = os.path.join(folder, label)\n",
        "        for filename in os.listdir(path):\n",
        "            img_path = os.path.join(path, filename)\n",
        "            img = Image.open(img_path).convert('L')  # Grayscale\n",
        "            img = img.resize(image_size)\n",
        "            img_array = np.array(img) / 255.0  # Normalize [0,1]\n",
        "            images.append(img_array)\n",
        "            labels.append(0 if label == 'NORMAL' else 1)\n",
        "    return np.array(images), np.array(labels)\n",
        "\n",
        "# Load Training data\n",
        "train_folder = '/content/chest_xray/train'\n",
        "X_train, y_train = load_images_from_folder(train_folder)\n",
        "\n",
        "# Check shape of data\n",
        "print(\"Training data shape:\", X_train.shape)\n",
        "print(\"Training labels shape:\", y_train.shape)\n"
      ],
      "metadata": {
        "id": "C_PsYOqFxGGA",
        "colab": {
          "base_uri": "https://localhost:8080/"
        },
        "outputId": "aa6a93c9-89d3-489d-be5a-028cb3169dba"
      },
      "execution_count": null,
      "outputs": [
        {
          "output_type": "stream",
          "name": "stdout",
          "text": [
            "Training data shape: (5216, 128, 128)\n",
            "Training labels shape: (5216,)\n"
          ]
        }
      ]
    },
    {
      "cell_type": "code",
      "source": [
        "# Flatten images into feature vectors\n",
        "X_train_flat = X_train.reshape(X_train.shape[0], -1)\n",
        "print(\"Flattened feature shape:\", X_train_flat.shape)\n"
      ],
      "metadata": {
        "colab": {
          "base_uri": "https://localhost:8080/"
        },
        "id": "wH0axFM7x3OP",
        "outputId": "7412b69e-bc31-45f3-b1b4-effb0e545bd1"
      },
      "execution_count": null,
      "outputs": [
        {
          "output_type": "stream",
          "name": "stdout",
          "text": [
            "Flattened feature shape: (5216, 16384)\n"
          ]
        }
      ]
    },
    {
      "cell_type": "code",
      "source": [
        "from sklearn.decomposition import PCA\n",
        "\n",
        "# Reduce dimensionality\n",
        "pca = PCA(n_components=50)  # selecting top 50 components\n",
        "X_train_pca = pca.fit_transform(X_train_flat)\n",
        "\n",
        "print(\"Shape after PCA:\", X_train_pca.shape)\n"
      ],
      "metadata": {
        "colab": {
          "base_uri": "https://localhost:8080/"
        },
        "id": "ZrhNQ-HdFGdr",
        "outputId": "67ee109c-0afb-4e4d-db52-e061fd045e75"
      },
      "execution_count": null,
      "outputs": [
        {
          "output_type": "stream",
          "name": "stdout",
          "text": [
            "Shape after PCA: (5216, 50)\n"
          ]
        }
      ]
    },
    {
      "cell_type": "markdown",
      "source": [
        "# **LinearRegression**"
      ],
      "metadata": {
        "id": "1Rt8NJSmIcp-"
      }
    },
    {
      "cell_type": "code",
      "source": [
        "from sklearn.linear_model import LinearRegression\n",
        "from sklearn.metrics import accuracy_score\n",
        "\n",
        "# Linear regression (demo; not ideal for classification tasks)\n",
        "lin_reg = LinearRegression()\n",
        "lin_reg.fit(X_train_pca, y_train)\n",
        "\n",
        "# Predict on training set\n",
        "y_pred_lin = lin_reg.predict(X_train_pca)\n",
        "y_pred_lin_class = [1 if pred > 0.5 else 0 for pred in y_pred_lin]\n",
        "\n",
        "# Accuracy on training set\n",
        "acc_lin = accuracy_score(y_train, y_pred_lin_class)\n",
        "print(\"Linear Regression accuracy (train):\", acc_lin)\n"
      ],
      "metadata": {
        "colab": {
          "base_uri": "https://localhost:8080/"
        },
        "id": "3ps5nydaFRJ7",
        "outputId": "959bce1b-17bc-4fb1-aaba-825f5ab0b1bd"
      },
      "execution_count": null,
      "outputs": [
        {
          "output_type": "stream",
          "name": "stdout",
          "text": [
            "Linear Regression accuracy (train): 0.9478527607361963\n"
          ]
        }
      ]
    },
    {
      "cell_type": "markdown",
      "source": [
        "# **K-Nearest Neighbors Classifier**"
      ],
      "metadata": {
        "id": "CC1TMophIi--"
      }
    },
    {
      "cell_type": "code",
      "source": [
        "from sklearn.neighbors import KNeighborsClassifier\n",
        "\n",
        "knn = KNeighborsClassifier(n_neighbors=5)\n",
        "knn.fit(X_train_pca, y_train)\n",
        "\n",
        "# Accuracy on training set\n",
        "y_pred_knn = knn.predict(X_train_pca)\n",
        "acc_knn = accuracy_score(y_train, y_pred_knn)\n",
        "print(\"KNN accuracy (train):\", acc_knn)\n"
      ],
      "metadata": {
        "colab": {
          "base_uri": "https://localhost:8080/"
        },
        "id": "5uh_2OfMFWce",
        "outputId": "cbf3b209-d903-4c49-d0d0-07a52c758576"
      },
      "execution_count": null,
      "outputs": [
        {
          "output_type": "stream",
          "name": "stdout",
          "text": [
            "KNN accuracy (train): 0.9649156441717791\n"
          ]
        }
      ]
    },
    {
      "cell_type": "markdown",
      "source": [
        "# **Decision Tree Classifier**"
      ],
      "metadata": {
        "id": "nTk7T8xhImWh"
      }
    },
    {
      "cell_type": "code",
      "source": [
        "from sklearn.tree import DecisionTreeClassifier\n",
        "\n",
        "# Limit depth to prevent overfitting\n",
        "tree = DecisionTreeClassifier(max_depth=5, random_state=42)\n",
        "tree.fit(X_train_pca, y_train)\n",
        "\n",
        "# Recheck training accuracy\n",
        "y_pred_tree = tree.predict(X_train_pca)\n",
        "acc_tree = accuracy_score(y_train, y_pred_tree)\n",
        "print(\"Decision Tree accuracy with limited depth (train):\", acc_tree)\n"
      ],
      "metadata": {
        "colab": {
          "base_uri": "https://localhost:8080/"
        },
        "id": "3WTIdva6FZmH",
        "outputId": "18e16388-48af-4f11-93e8-4fc4abd7a443"
      },
      "execution_count": null,
      "outputs": [
        {
          "output_type": "stream",
          "name": "stdout",
          "text": [
            "Decision Tree accuracy with limited depth (train): 0.9189033742331288\n"
          ]
        }
      ]
    },
    {
      "cell_type": "markdown",
      "source": [
        "# **Cross-validation**"
      ],
      "metadata": {
        "id": "GeUdpWNXIpni"
      }
    },
    {
      "cell_type": "code",
      "source": [
        "from sklearn.model_selection import cross_val_score\n",
        "\n",
        "# KNN cross-validation\n",
        "knn_cv = cross_val_score(knn, X_train_pca, y_train, cv=5)\n",
        "print(\"KNN Cross-validation accuracy:\", knn_cv.mean())\n",
        "\n",
        "# Decision Tree cross-validation\n",
        "tree_cv = cross_val_score(tree, X_train_pca, y_train, cv=5)\n",
        "print(\"Decision Tree Cross-validation accuracy:\", tree_cv.mean())\n"
      ],
      "metadata": {
        "colab": {
          "base_uri": "https://localhost:8080/"
        },
        "id": "J_Pmb1iVFePk",
        "outputId": "4b4e287c-77b1-4d45-8c8a-b2795e35c004"
      },
      "execution_count": null,
      "outputs": [
        {
          "output_type": "stream",
          "name": "stdout",
          "text": [
            "KNN Cross-validation accuracy: 0.9440183232129542\n",
            "Decision Tree Cross-validation accuracy: 0.8964699896775805\n"
          ]
        }
      ]
    },
    {
      "cell_type": "markdown",
      "source": [
        "# **Final Evaluation**"
      ],
      "metadata": {
        "id": "I6t60UYmI1w7"
      }
    },
    {
      "cell_type": "code",
      "source": [
        "# Load Test data\n",
        "test_folder = '/content/chest_xray/test'\n",
        "X_test, y_test = load_images_from_folder(test_folder)\n",
        "X_test_flat = X_test.reshape(X_test.shape[0], -1)\n",
        "X_test_pca = pca.transform(X_test_flat)\n",
        "\n",
        "# Decision Tree as example\n",
        "y_test_pred_tree = tree.predict(X_test_pca)\n",
        "test_acc_tree = accuracy_score(y_test, y_test_pred_tree)\n",
        "print(\"Decision Tree accuracy (test):\", test_acc_tree)\n",
        "\n",
        "# KNN as example\n",
        "y_test_pred_knn = knn.predict(X_test_pca)\n",
        "test_acc_knn = accuracy_score(y_test, y_test_pred_knn)\n",
        "print(\"KNN accuracy (test):\", test_acc_knn)\n"
      ],
      "metadata": {
        "colab": {
          "base_uri": "https://localhost:8080/"
        },
        "id": "uJ_atYA4FjIr",
        "outputId": "d47129e4-a4df-4d7c-edf8-8a8395139771"
      },
      "execution_count": null,
      "outputs": [
        {
          "output_type": "stream",
          "name": "stdout",
          "text": [
            "Decision Tree accuracy (test): 0.7387820512820513\n",
            "KNN accuracy (test): 0.7772435897435898\n"
          ]
        }
      ]
    }
  ]
}